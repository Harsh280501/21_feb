{
 "cells": [
  {
   "cell_type": "markdown",
   "id": "eab84df9-8d89-430b-bbba-07ce258ef7f0",
   "metadata": {},
   "source": [
    "Q1. What is Web Scraping? Why is it Used? Give three areas where Web Scraping is used to get data."
   ]
  },
  {
   "cell_type": "markdown",
   "id": "16e3f946-075a-409b-a663-521e0950bfaf",
   "metadata": {},
   "source": [
    "Web scraping is an automatic method to obtain large amounts of data from websites. Most of this data is unstructured data in an HTML format which is then converted into structured data in a spreadsheet or a database so that it can be used in various applications. There are many different ways to perform web scraping to obtain data from websites.\n",
    "\n",
    "\n",
    "1)Price Monitoring\n",
    "\n",
    "2)Market Research\n",
    "\n",
    "3)News Monitoring"
   ]
  },
  {
   "cell_type": "markdown",
   "id": "b5b183f2-eb21-46e7-a244-a8b261f4d823",
   "metadata": {},
   "source": [
    "Q2. What are the different methods used for Web Scraping?"
   ]
  },
  {
   "cell_type": "markdown",
   "id": "ead1586a-feae-4497-980c-b6ddce972146",
   "metadata": {},
   "source": [
    "\n",
    "1)Self-Built\n",
    "\n",
    "You can have Self-built Web Scrapers but that requires advanced knowledge of programming.\n",
    "\n",
    "2)Browser extensions\n",
    "\n",
    "Browser extensions Web Scrapers are extensions that can be added to your browser. These are easy to run as they are integrated with your browser, but at the same time, they are also limited because of this. \n",
    "\n",
    "3)Cloud Web Scrapers\n",
    "\n",
    "Cloud Web Scrapers run on the cloud, which is an off-site server mostly provided by the company that you buy the scraper from."
   ]
  },
  {
   "cell_type": "markdown",
   "id": "ee2ca09c-8a53-4b95-806a-c2fc4bbcce49",
   "metadata": {},
   "source": [
    "Q3. What is Beautiful Soup? Why is it used?"
   ]
  },
  {
   "cell_type": "markdown",
   "id": "9aabbbca-25a7-41eb-a065-0d6a6290b8ee",
   "metadata": {},
   "source": [
    "Beautiful Soup helps you pull particular content from a webpage, remove the HTML markup, and save the information. It is a tool for web scraping that helps you clean up and parse the documents you have pulled down from the web.\n",
    "\n",
    "So, web scraping which is also known as web data extraction or web harvesting is the extraction of data from web. In short, web scraping provides a way to the developers to collect and analyze data from the internet.\n",
    "\n",
    "Ease of Use\n",
    "As most of the developers agree that python is very easy to code. We don’t have to use any curly braces “{ }” or semi-colons “;” anywhere, which makes it more readable and easy-to-use while developing web scrapers.\n",
    "\n",
    "Huge Library Support\n",
    "Python provides huge set of libraries for different requirements, so it is appropriate for web scraping as well as for data visualization, machine learning, etc."
   ]
  },
  {
   "cell_type": "markdown",
   "id": "52fe5265-6a36-42e7-b9cb-6952439a7e53",
   "metadata": {},
   "source": [
    "Q4. Why is flask used in this Web Scraping project?"
   ]
  },
  {
   "cell_type": "markdown",
   "id": "154297a1-e502-4994-928b-2a127b291ff5",
   "metadata": {},
   "source": [
    "Flask is used to create an api which can be utilized using a link and anybody can access it.\n",
    "\n",
    "With flask a backend can be provided where the data can be accessed and even the data that is scrapped can be accessed through it."
   ]
  },
  {
   "cell_type": "markdown",
   "id": "f7d9976d-4be6-4093-926b-9d3e92ac9616",
   "metadata": {},
   "source": [
    "Q5. Write the names of AWS services used in this project. Also, explain the use of each service."
   ]
  },
  {
   "cell_type": "markdown",
   "id": "5d3dc618-3ab6-4834-bd54-272425da48c0",
   "metadata": {},
   "source": [
    "AWS services like Code Pipeline and beanstack is used,\n",
    "\n",
    "\n",
    "Code pipeline manages the flow of the code and connects it with the aws services like beanstack\n",
    "\n",
    "Beanstack gives an environment where a virtual machine is created where the code or the api created can be runned and the access can be given to the users.\n"
   ]
  }
 ],
 "metadata": {
  "kernelspec": {
   "display_name": "Python 3 (ipykernel)",
   "language": "python",
   "name": "python3"
  },
  "language_info": {
   "codemirror_mode": {
    "name": "ipython",
    "version": 3
   },
   "file_extension": ".py",
   "mimetype": "text/x-python",
   "name": "python",
   "nbconvert_exporter": "python",
   "pygments_lexer": "ipython3",
   "version": "3.10.8"
  }
 },
 "nbformat": 4,
 "nbformat_minor": 5
}
